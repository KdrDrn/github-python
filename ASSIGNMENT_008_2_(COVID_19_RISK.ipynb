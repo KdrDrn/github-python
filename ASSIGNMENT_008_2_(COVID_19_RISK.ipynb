{
  "nbformat": 4,
  "nbformat_minor": 0,
  "metadata": {
    "colab": {
      "name": "ASSIGNMENT 008/2 (COVID-19 RISK.ipynb",
      "provenance": [],
      "collapsed_sections": [],
      "authorship_tag": "ABX9TyNQIdFd4Rr5cs5hFMOCq1Jg",
      "include_colab_link": true
    },
    "kernelspec": {
      "name": "python3",
      "display_name": "Python 3"
    },
    "language_info": {
      "name": "python"
    }
  },
  "cells": [
    {
      "cell_type": "markdown",
      "metadata": {
        "id": "view-in-github",
        "colab_type": "text"
      },
      "source": [
        "<a href=\"https://colab.research.google.com/github/C8301-SamSteady/github-python/blob/main/ASSIGNMENT_008_2_(COVID_19_RISK.ipynb\" target=\"_parent\"><img src=\"https://colab.research.google.com/assets/colab-badge.svg\" alt=\"Open In Colab\"/></a>"
      ]
    },
    {
      "cell_type": "code",
      "metadata": {
        "colab": {
          "base_uri": "https://localhost:8080/"
        },
        "id": "-6RNsZ-maPyc",
        "outputId": "2871aeb5-a05f-4b83-fd70-5a2419f139e1"
      },
      "source": [
        "# 012 ASSIGNMENT-008/2 (COVID-19 RISK)\n",
        "age = input(\"Are you a cigarette addict older than 75 years old?(e.g. Yes or No) :\")\n",
        "cronic = input(\"Do you have a severe chronic disease?(e.g. Yes or No) :\")\n",
        "immune = input(\"Is your immune system too weak?(e.g. Yes or No) :\")\n",
        "\n",
        "if age == \"Yes\":\n",
        "  age = True\n",
        "  print(\"You are in risky group\")\n",
        "elif cronic == \"Yes\":\n",
        "  cronic = True\n",
        "  print(\"You are in risky group\")\n",
        "elif immune == \"Yes\":\n",
        "  immune = True\n",
        "  print(\"You are in risky group\")\n",
        "else :\n",
        "  print(\"You are not in risky group\")"
      ],
      "execution_count": 1,
      "outputs": [
        {
          "output_type": "stream",
          "text": [
            "Are you a cigarette addict older than 75 years old?(e.g. Yes or No) :No\n",
            "Do you have a severe chronic disease?(e.g. Yes or No) :Yes\n",
            "Is your immune system too weak?(e.g. Yes or No) :Yes\n",
            "You are in risky group\n"
          ],
          "name": "stdout"
        }
      ]
    }
  ]
}