{
  "nbformat": 4,
  "nbformat_minor": 0,
  "metadata": {
    "colab": {
      "name": "ASSIGNMENT-008/4 (IS IT A PRIME NUMBER?).ipynb",
      "provenance": [],
      "collapsed_sections": [],
      "authorship_tag": "ABX9TyPn9Kw5g7XiHjRjPCl85UC3",
      "include_colab_link": true
    },
    "kernelspec": {
      "name": "python3",
      "display_name": "Python 3"
    },
    "language_info": {
      "name": "python"
    }
  },
  "cells": [
    {
      "cell_type": "markdown",
      "metadata": {
        "id": "view-in-github",
        "colab_type": "text"
      },
      "source": [
        "<a href=\"https://colab.research.google.com/github/C8301-SamSteady/github-python/blob/main/ASSIGNMENT_008_4_(IS_IT_A_PRIME_NUMBER%3F).ipynb\" target=\"_parent\"><img src=\"https://colab.research.google.com/assets/colab-badge.svg\" alt=\"Open In Colab\"/></a>"
      ]
    },
    {
      "cell_type": "code",
      "metadata": {
        "colab": {
          "base_uri": "https://localhost:8080/"
        },
        "id": "oxjAAAxlae0_",
        "outputId": "a61beb5d-9d37-428a-8d76-ec49e900119c"
      },
      "source": [
        "# 014 ASSIGNMENT-008/4 (IS IT A PRIME NUMBER?)\n",
        "number = int(input(\"Please enter a number: \"))\n",
        "\n",
        "if number > 1 :\n",
        "   for i in range(2,number) :\n",
        "       if (number % i) == 0 :\n",
        "           print(number,\"is not a prime number\")\n",
        "           break\n",
        "   else :\n",
        "       print(number,\"is a prime number\")\n",
        "else :\n",
        "   print(number,\"is not a prime number\")"
      ],
      "execution_count": 2,
      "outputs": [
        {
          "output_type": "stream",
          "text": [
            "Please enter a number: 47\n",
            "47 is a prime number\n"
          ],
          "name": "stdout"
        }
      ]
    }
  ]
}