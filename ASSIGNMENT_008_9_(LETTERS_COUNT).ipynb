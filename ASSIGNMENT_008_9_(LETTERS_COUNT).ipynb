{
  "nbformat": 4,
  "nbformat_minor": 0,
  "metadata": {
    "colab": {
      "name": "ASSIGNMENT_008_9 (LETTERS COUNT).ipynb",
      "provenance": [],
      "collapsed_sections": [],
      "authorship_tag": "ABX9TyPCPUnI3EF9l/HKtTrhNtFH",
      "include_colab_link": true
    },
    "kernelspec": {
      "name": "python3",
      "display_name": "Python 3"
    },
    "language_info": {
      "name": "python"
    }
  },
  "cells": [
    {
      "cell_type": "markdown",
      "metadata": {
        "id": "view-in-github",
        "colab_type": "text"
      },
      "source": [
        "<a href=\"https://colab.research.google.com/github/C8301-SamSteady/github-python/blob/main/ASSIGNMENT_008_9_(LETTERS_COUNT).ipynb\" target=\"_parent\"><img src=\"https://colab.research.google.com/assets/colab-badge.svg\" alt=\"Open In Colab\"/></a>"
      ]
    },
    {
      "cell_type": "code",
      "metadata": {
        "colab": {
          "base_uri": "https://localhost:8080/"
        },
        "id": "_bmEcnxwV5xb",
        "outputId": "845290aa-43ff-45e9-f2c9-f81f3707ab32"
      },
      "source": [
        "# 019 ASSIGNMENT-008/9 (LETTERS COUNT)\n",
        "\n",
        "sentence = \"hippo runs to us!\"\n",
        "occurance = []\n",
        "\n",
        "for i in set(sentence):\n",
        "    occurance.append(sentence.count(i))\n",
        "print(dict(list(zip(set(sentence), occurance))))"
      ],
      "execution_count": 1,
      "outputs": [
        {
          "output_type": "stream",
          "text": [
            "{'t': 1, ' ': 3, 'u': 2, 'i': 1, 'o': 2, 'p': 2, '!': 1, 'n': 1, 'r': 1, 'h': 1, 's': 2}\n"
          ],
          "name": "stdout"
        }
      ]
    }
  ]
}