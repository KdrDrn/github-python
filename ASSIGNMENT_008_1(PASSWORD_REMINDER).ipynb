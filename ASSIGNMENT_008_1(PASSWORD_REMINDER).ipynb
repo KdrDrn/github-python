{
  "nbformat": 4,
  "nbformat_minor": 0,
  "metadata": {
    "colab": {
      "name": "ASSIGNMENT-008/1(PASSWORD REMINDER).ipynb",
      "provenance": [],
      "collapsed_sections": [],
      "authorship_tag": "ABX9TyOBYW/4YVLgQRV3aLDLtCtQ",
      "include_colab_link": true
    },
    "kernelspec": {
      "name": "python3",
      "display_name": "Python 3"
    },
    "language_info": {
      "name": "python"
    }
  },
  "cells": [
    {
      "cell_type": "markdown",
      "metadata": {
        "id": "view-in-github",
        "colab_type": "text"
      },
      "source": [
        "<a href=\"https://colab.research.google.com/github/C8301-SamSteady/github-python/blob/main/ASSIGNMENT_008_1(PASSWORD_REMINDER).ipynb\" target=\"_parent\"><img src=\"https://colab.research.google.com/assets/colab-badge.svg\" alt=\"Open In Colab\"/></a>"
      ]
    },
    {
      "cell_type": "code",
      "metadata": {
        "colab": {
          "base_uri": "https://localhost:8080/"
        },
        "id": "KyU_x2FcZOQV",
        "outputId": "75fd9d52-9a77-4e67-b690-b8e46a39d59e"
      },
      "source": [
        "# 011 ASSIGNMENT-008/1(PASSWORD REMINDER)\n",
        "# To improve your conditional algorithm and string operations skills.\n",
        "# Task : Let's say; you left a message in the past that prints a password you need. To see the password you wrote, you need to enter your name and the program should recognize you.\n",
        "# Write a program that \n",
        "# Takes the first name from the user and compares it to yours,\n",
        "# Then if the name the user entered is the same as yours, print out such as : \"Hello, Joseph! The password is : W@12\",\n",
        "# If the name the user entered is not the same as yours, print out such as : \"Hello, Amina! See you later.\"\n",
        "\n",
        "answer = \"Sam\"\n",
        "first_name = input(\"Please enter your first  name :  \")\n",
        "\n",
        "while answer != first_name :\n",
        "  print(\"Hello,\", first_name, \"! See you later.\")\n",
        "  first_name = input (\"Please enter your first  name again please! :  \")\n",
        "print(\"Hello, \", first_name, \"! The password is : W@12\")"
      ],
      "execution_count": 1,
      "outputs": [
        {
          "output_type": "stream",
          "text": [
            "Please enter your first  name :  Joseph\n",
            "Hello, Joseph ! See you later.\n",
            "Please enter your first  name again please! :  Michael\n",
            "Hello, Michael ! See you later.\n",
            "Please enter your first  name again please! :  Sam\n",
            "Hello,  Sam ! The password is : W@12\n"
          ],
          "name": "stdout"
        }
      ]
    }
  ]
}