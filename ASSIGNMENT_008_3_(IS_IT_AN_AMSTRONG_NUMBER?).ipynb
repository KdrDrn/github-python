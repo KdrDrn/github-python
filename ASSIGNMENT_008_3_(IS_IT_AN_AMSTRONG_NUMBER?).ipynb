{
  "nbformat": 4,
  "nbformat_minor": 0,
  "metadata": {
    "colab": {
      "name": "ASSIGNMENT-008/3 (IS IT AN AMSTRONG NUMBER?).ipynb",
      "provenance": [],
      "collapsed_sections": [],
      "authorship_tag": "ABX9TyPa4tFbG9M8zKeqHbAWC+K1",
      "include_colab_link": true
    },
    "kernelspec": {
      "name": "python3",
      "display_name": "Python 3"
    },
    "language_info": {
      "name": "python"
    }
  },
  "cells": [
    {
      "cell_type": "markdown",
      "metadata": {
        "id": "view-in-github",
        "colab_type": "text"
      },
      "source": [
        "<a href=\"https://colab.research.google.com/github/C8301-SamSteady/github-python/blob/main/ASSIGNMENT_008_3_(IS_IT_AN_AMSTRONG_NUMBER%3F).ipynb\" target=\"_parent\"><img src=\"https://colab.research.google.com/assets/colab-badge.svg\" alt=\"Open In Colab\"/></a>"
      ]
    },
    {
      "cell_type": "code",
      "metadata": {
        "id": "wzRRhFMpozwf",
        "colab": {
          "base_uri": "https://localhost:8080/"
        },
        "outputId": "948d446c-2a8f-4a00-bcf6-4750e11f1878"
      },
      "source": [
        "# 013 ASSIGNMENT-008/3 (IS IT AN AMSTRONG NUMBER?)\n",
        "number = input(\"Please input a number!: \")\n",
        "a = len(number)\n",
        "toplam = 0\n",
        "i = 0\n",
        "\n",
        "if number.strip().isdigit(): \n",
        "  while i < a :\n",
        "    toplam = toplam + int(number[i])**a\n",
        "    i += 1\n",
        "  if int(number) == toplam :\n",
        "    print(number, \"is an Armstrong number\")\n",
        "  else :\n",
        "    print(number, \"is not an Armstrong number\")\n",
        "else :\n",
        "  print(\"It is an invalid entry. Don't use non-numeric, float, or negative values!\")\n"
      ],
      "execution_count": 67,
      "outputs": [
        {
          "output_type": "stream",
          "text": [
            "Please input a number!: L56,\n",
            "It is an invalid entry. Don't use non-numeric, float, or negative values!\n"
          ],
          "name": "stdout"
        }
      ]
    }
  ]
}