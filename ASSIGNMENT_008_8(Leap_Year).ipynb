{
  "nbformat": 4,
  "nbformat_minor": 0,
  "metadata": {
    "colab": {
      "name": "ASSIGNMENT-008/8(Leap Year).ipynb",
      "provenance": [],
      "collapsed_sections": [],
      "authorship_tag": "ABX9TyNAsztbfRdyFxHhK5Pk19k5",
      "include_colab_link": true
    },
    "kernelspec": {
      "name": "python3",
      "display_name": "Python 3"
    },
    "language_info": {
      "name": "python"
    }
  },
  "cells": [
    {
      "cell_type": "markdown",
      "metadata": {
        "id": "view-in-github",
        "colab_type": "text"
      },
      "source": [
        "<a href=\"https://colab.research.google.com/github/C8301-SamSteady/github-python/blob/main/ASSIGNMENT_008_8(Leap_Year).ipynb\" target=\"_parent\"><img src=\"https://colab.research.google.com/assets/colab-badge.svg\" alt=\"Open In Colab\"/></a>"
      ]
    },
    {
      "cell_type": "code",
      "metadata": {
        "colab": {
          "base_uri": "https://localhost:8080/"
        },
        "id": "zPAJ4TlPiqxB",
        "outputId": "23a23cc6-50f5-4540-81f7-2f7e07a34bbb"
      },
      "source": [
        "# 018 ASSIGNMENT-008/8 (Leap Year)\n",
        "year = int(input(\"Enter Year: \"))\n",
        "\n",
        "if ((year % 4 == 0) and (year % 100 != 0)) or (year % 400 == 0) :\n",
        "  print(year, \" is leap year.\")\n",
        "else :\n",
        "  print(year, \" is not leap year.\")"
      ],
      "execution_count": 6,
      "outputs": [
        {
          "output_type": "stream",
          "text": [
            "Enter Year: 2050\n",
            "2050  is not leap year.\n"
          ],
          "name": "stdout"
        }
      ]
    }
  ]
}