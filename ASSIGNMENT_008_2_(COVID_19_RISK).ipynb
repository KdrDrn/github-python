{
  "nbformat": 4,
  "nbformat_minor": 0,
  "metadata": {
    "colab": {
      "name": "ASSIGNMENT 008/2 (COVID-19 RISK).ipynb",
      "provenance": [],
      "collapsed_sections": [],
      "authorship_tag": "ABX9TyMXcAgGjKvTrpXXpq1YY262",
      "include_colab_link": true
    },
    "kernelspec": {
      "name": "python3",
      "display_name": "Python 3"
    },
    "language_info": {
      "name": "python"
    }
  },
  "cells": [
    {
      "cell_type": "markdown",
      "metadata": {
        "id": "view-in-github",
        "colab_type": "text"
      },
      "source": [
        "<a href=\"https://colab.research.google.com/github/C8301-SamSteady/github-python/blob/main/ASSIGNMENT_008_2_(COVID_19_RISK).ipynb\" target=\"_parent\"><img src=\"https://colab.research.google.com/assets/colab-badge.svg\" alt=\"Open In Colab\"/></a>"
      ]
    },
    {
      "cell_type": "code",
      "metadata": {
        "colab": {
          "base_uri": "https://localhost:8080/"
        },
        "id": "ZHBarNXjsHKn",
        "outputId": "844e39b8-61b6-409e-8d8d-04e12cfaffec"
      },
      "source": [
        "# 012 ASSIGNMENT-008/2 (COVID-19 RISK) versiyon3\n",
        "age = input(\"Are you a cigarette addict older than 75 years old? (Yes/No) \").title().strip() == \"Yes\"\n",
        "cronic = input(\"Do you have a severe chronic disease? (Yes/No) \").title().strip() == \"Yes\"\n",
        "immune = input(\"Is your immune system too weak? (Yes/No) \").title().strip() == \"Yes\"\n",
        "\n",
        "risk = age or cronic or immune\n",
        "\n",
        "if risk == True :\n",
        "  print(\"You are in risky group\")\n",
        "else :\n",
        "  print(\"You are not in risky group\")"
      ],
      "execution_count": 8,
      "outputs": [
        {
          "output_type": "stream",
          "text": [
            "Are you a cigarette addict older than 75 years old? (Yes/No) no\n",
            "Do you have a severe chronic disease? (Yes/No) no\n",
            "Is your immune system too weak? (Yes/No) yes\n",
            "You are in risky group\n"
          ],
          "name": "stdout"
        }
      ]
    },
    {
      "cell_type": "code",
      "metadata": {
        "colab": {
          "base_uri": "https://localhost:8080/"
        },
        "id": "zoDeJNZTr5Yw",
        "outputId": "1968814c-6462-4df0-acb6-ad2dd1147af6"
      },
      "source": [
        "# 012 ASSIGNMENT-008/2 (COVID-19 RISK) versiyon2\n",
        "age = input(\"Are you a cigarette addict older than 75 years old? (Yes/No) \").title().strip() == \"Yes\"\n",
        "cronic = input(\"Do you have a severe chronic disease? (Yes/No) \").title().strip() == \"Yes\"\n",
        "immune = input(\"Is your immune system too weak? (Yes/No) \").title().strip() == \"Yes\"\n",
        "\n",
        "if age == True :\n",
        "  print(\"You are in risky group\")\n",
        "elif cronic == True :\n",
        "  print(\"You are in risky group\")\n",
        "elif immune == True :\n",
        "  print(\"You are in risky group\")\n",
        "else :\n",
        "  print(\"You are not in risky group\")\n"
      ],
      "execution_count": 6,
      "outputs": [
        {
          "output_type": "stream",
          "text": [
            "Are you a cigarette addict older than 75 years old? (Yes/No) no\n",
            "Do you have a severe chronic disease? (Yes/No) no\n",
            "Is your immune system too weak? (Yes/No) no\n",
            "You are not in risky group\n"
          ],
          "name": "stdout"
        }
      ]
    },
    {
      "cell_type": "code",
      "metadata": {
        "colab": {
          "base_uri": "https://localhost:8080/"
        },
        "id": "-6RNsZ-maPyc",
        "outputId": "d10d9469-879b-4514-c008-bde8d1685303"
      },
      "source": [
        "# 012 ASSIGNMENT-008/2 (COVID-19 RISK) versiyon1\n",
        "age = input(\"Are you a cigarette addict older than 75 years old?(e.g. Yes or No) :\")\n",
        "cronic = input(\"Do you have a severe chronic disease?(e.g. Yes or No) :\")\n",
        "immune = input(\"Is your immune system too weak?(e.g. Yes or No) :\")\n",
        "\n",
        "if age == \"Yes\":\n",
        "  age = True\n",
        "  print(\"You are in risky group\")\n",
        "elif cronic == \"Yes\":\n",
        "  cronic = True\n",
        "  print(\"You are in risky group\")\n",
        "elif immune == \"Yes\":\n",
        "  immune = True\n",
        "  print(\"You are in risky group\")\n",
        "else :\n",
        "  print(\"You are not in risky group\")"
      ],
      "execution_count": null,
      "outputs": [
        {
          "output_type": "stream",
          "text": [
            "Are you a cigarette addict older than 75 years old?(e.g. Yes or No) :No\n",
            "Do you have a severe chronic disease?(e.g. Yes or No) :No\n",
            "Is your immune system too weak?(e.g. Yes or No) :No\n",
            "You are not in risky group\n"
          ],
          "name": "stdout"
        }
      ]
    }
  ]
}