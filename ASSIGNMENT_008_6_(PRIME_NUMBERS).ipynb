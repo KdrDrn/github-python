{
  "nbformat": 4,
  "nbformat_minor": 0,
  "metadata": {
    "colab": {
      "name": "ASSIGNMENT-008/6 (PRIME NUMBERS).ipynb",
      "provenance": [],
      "collapsed_sections": [],
      "authorship_tag": "ABX9TyNPOgmQHxh78+h/zBvvhX1y",
      "include_colab_link": true
    },
    "kernelspec": {
      "name": "python3",
      "display_name": "Python 3"
    },
    "language_info": {
      "name": "python"
    }
  },
  "cells": [
    {
      "cell_type": "markdown",
      "metadata": {
        "id": "view-in-github",
        "colab_type": "text"
      },
      "source": [
        "<a href=\"https://colab.research.google.com/github/C8301-SamSteady/github-python/blob/main/ASSIGNMENT_008_6_(PRIME_NUMBERS).ipynb\" target=\"_parent\"><img src=\"https://colab.research.google.com/assets/colab-badge.svg\" alt=\"Open In Colab\"/></a>"
      ]
    },
    {
      "cell_type": "code",
      "metadata": {
        "colab": {
          "base_uri": "https://localhost:8080/"
        },
        "id": "lLz5oC3s3Wpg",
        "outputId": "f5871c6a-db34-49f5-c200-4ae7ae36380a"
      },
      "source": [
        "# 016 ASSIGNMENT-008/6 (PRIME NUMBERS)\n",
        "prime_number = []\n",
        "for n in range(2,101):\n",
        "    prime = True\n",
        "    for i in range(2,n):\n",
        "        if (n==0) or (n==1) or (n%i==0):\n",
        "            prime = False\n",
        "    if prime:\n",
        "       prime_number.append(n)\n",
        "print (prime_number)"
      ],
      "execution_count": 1,
      "outputs": [
        {
          "output_type": "stream",
          "text": [
            "[2, 3, 5, 7, 11, 13, 17, 19, 23, 29, 31, 37, 41, 43, 47, 53, 59, 61, 67, 71, 73, 79, 83, 89, 97]\n"
          ],
          "name": "stdout"
        }
      ]
    }
  ]
}